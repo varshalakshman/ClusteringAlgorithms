{
 "cells": [
  {
   "cell_type": "code",
   "execution_count": 414,
   "metadata": {},
   "outputs": [],
   "source": [
    "import numpy as np\n",
    "from sklearn.decomposition import PCA\n",
    "import math\n",
    "import matplotlib.cm as mapcm\n",
    "import matplotlib.pyplot as maplot\n",
    "import random"
   ]
  },
  {
   "cell_type": "code",
   "execution_count": 415,
   "metadata": {},
   "outputs": [
    {
     "name": "stdout",
     "output_type": "stream",
     "text": [
      "Enter the gene-expression data file name:DBSCAN.txt\n",
      "Enter the epsilon radius:0.25\n",
      "Enter the minimum points:5\n"
     ]
    }
   ],
   "source": [
    "#Enter the gene-expression data file name,the epsilon and the minimum points \n",
    "file_name = input(\"Enter the gene-expression data file name:\")\n",
    "eps = input(\"Enter the epsilon radius:\")\n",
    "minPts = input(\"Enter the minimum points:\")"
   ]
  },
  {
   "cell_type": "code",
   "execution_count": 416,
   "metadata": {},
   "outputs": [],
   "source": [
    "def distance(lst1, lst2):\n",
    "    '''\n",
    "    Description: Calculates the euclidean distance between the points.\n",
    "    '''\n",
    "    return math.sqrt(np.dot(lst1-lst2, lst1-lst2))"
   ]
  },
  {
   "cell_type": "code",
   "execution_count": 417,
   "metadata": {},
   "outputs": [],
   "source": [
    "def dbscan(data,eps,minPts):\n",
    "    \n",
    "    clusterid = 0\n",
    "    clustlabels = np.zeros(data.shape[0], dtype=int)\n",
    "   \n",
    "    for pt in range(0, data.shape[0]):\n",
    "        #If the point is not visited,calculate the neighbors of the point\n",
    "        if clustlabels[pt] == 0: \n",
    "        \n",
    "            neighbors = []\n",
    "    \n",
    "            for otherpt in range(0, data.shape[0]):\n",
    "         # If the distance between the 2 points is less than or equal to epsilon,they can be considered neighbors.\n",
    "                  if(distance(data[pt],data[otherpt]) <= eps):\n",
    "                           neighbors.append(otherpt)\n",
    "            #print(neighbors)    \n",
    "        #print(neighbors)\n",
    "        # If the length of the neighbors is greater than the minpoints, a new cluster is created\n",
    "            if len(neighbors) >= minPts:\n",
    "                    #ClusterId is assigned to the point\n",
    "                    clusterid += 1\n",
    "                    clustlabels[pt] = clusterid \n",
    "                    var =0\n",
    "                    #Expand the cluster by collecting the neighbors of the points within the neighbor collection\n",
    "                    while var<len(neighbors):\n",
    "                            point = neighbors[var]\n",
    "\n",
    "                            if clustlabels[point] == -1:\n",
    "                            #Previously assigned as noise, but as it neighbors of the point we are assigning it to the cluster.\n",
    "                                    clustlabels[point] = clusterid \n",
    "\n",
    "                            if clustlabels[point] == 0:\n",
    "                             # If the point has not been processed previously,assign it to a cluster and then collect all the neighbors\n",
    "                                    clustlabels[point] = clusterid\n",
    "                                    neighborsIn = []\n",
    "                                    for otherpointL in range(0, data.shape[0]):\n",
    "                                        # If the distance between the 2 points is less than or equal to epsilon,they can be considered neighbors.\n",
    "                                            if(distance(data[point],data[otherpointL]) <= eps):\n",
    "                                                   neighborsIn.append(otherpointL)\n",
    "                                    #print(\"Testing\",neighborsIn)                \n",
    "                                    if len(neighborsIn) >= minPts:\n",
    "                                             neighbors += neighborsIn\n",
    "                            var=var+1       \n",
    "            else:\n",
    "                # The point is considered a noise\n",
    "                    clustlabels[pt] = -1 \n",
    "                    continue\n",
    "    return  clustlabels  "
   ]
  },
  {
   "cell_type": "code",
   "execution_count": 418,
   "metadata": {},
   "outputs": [
    {
     "name": "stdout",
     "output_type": "stream",
     "text": [
      "[1 1 1 ... 4 4 4]\n"
     ]
    }
   ],
   "source": [
    "#Reading the file\n",
    "if (file_name == \"DBSCAN.txt\"):\n",
    "    data=np.genfromtxt(file_name, delimiter=\" \")\n",
    "#Removing the first 2 columns\n",
    "else:\n",
    "    data=np.genfromtxt(file_name, delimiter=\"\\t\")\n",
    "#Removing the first 2 columns\n",
    "\n",
    "dataSelected = data[:,2:]\n",
    "\n",
    "\n",
    "#clusterList denotes the clusters to which each point belongs to\n",
    "clusterList = dbscan(dataSelected,float(eps),int(minPts))\n",
    "print(clusterList)"
   ]
  },
  {
   "cell_type": "code",
   "execution_count": 419,
   "metadata": {},
   "outputs": [],
   "source": [
    "#Fitting the data to PCA\n",
    "if (file_name == \"DBSCAN.txt\"):\n",
    "    new_factors = dataSelected\n",
    "\n",
    "else:\n",
    "    pca_set = PCA(n_components=2, svd_solver='full')\n",
    "    pca_set.fit(dataSelected)\n",
    "    new_factors = pca_set.transform(dataSelected)"
   ]
  },
  {
   "cell_type": "code",
   "execution_count": 420,
   "metadata": {},
   "outputs": [
    {
     "name": "stdout",
     "output_type": "stream",
     "text": [
      "<class 'list'>\n"
     ]
    },
    {
     "data": {
      "text/plain": [
       "Text(0, 0.5, 'Principle Component 2')"
      ]
     },
     "execution_count": 420,
     "metadata": {},
     "output_type": "execute_result"
    },
    {
     "data": {
      "image/png": "[encoded data removed]",
      "text/plain": [
       "<Figure size 432x288 with 1 Axes>"
      ]
     },
     "metadata": {
      "needs_background": "light"
     },
     "output_type": "display_data"
    }
   ],
   "source": [
    "# Generating variable number of colors\n",
    "unique_classes_list = list(set(clusterList))\n",
    "#var_col = mapcm.Set1(np.linspace (0,1,len(unique_classes_list)))\n",
    "var_col  = [\"#\"+''.join([random.choice('0123456789ABCDEF') for j in range(6)]) for i in range(len(unique_classes_list))]\n",
    "# var_col = np.asarray(var_col)\n",
    "print(type(var_col))\n",
    "\n",
    "#var_col = [maplot.cm.jet(float(i) / max(unique_classes_list)) for i in unique_classes_list]\n",
    "\n",
    "# Plotting the final dataframe with disease names\n",
    "plot1 = maplot.figure()\n",
    "plot11 = plot1.add_subplot(111)\n",
    "\n",
    "# Taking first and second columns from new_factors()\n",
    "first_col = new_factors[:,0]\n",
    "second_col = new_factors[:,1]\n",
    "\n",
    "# Calculating the coordinates for the plot\n",
    "for x, y in enumerate(unique_classes_list):\n",
    "    temp_a = []\n",
    "    temp_b = []\n",
    "    \n",
    "    # Populating temp_a list\n",
    "    for (m,n) in enumerate(first_col):\n",
    "        if clusterList[m] == y:\n",
    "            temp_a.append(n)\n",
    "            \n",
    "    # Populating temp_b list\n",
    "    for (m,n) in enumerate(second_col):\n",
    "        if clusterList[m] == y:\n",
    "            temp_b.append(n)\n",
    "    \n",
    "    # Converting labels to string\n",
    "    l = str(int(y))\n",
    "    \n",
    "    # Plotting the graph\n",
    "    plot11.scatter(temp_a,temp_b, c=var_col[x], label=l)\n",
    "    \n",
    "#giving the location of the legend as \"best\"\n",
    "#This would place the legend at the location in the graph that would overcover minimum data points\n",
    "plot11.legend(loc='best')\n",
    "\n",
    "# Giving X axis label\n",
    "plot11.set_xlabel('Principle Component 1')\n",
    "\n",
    "plot11.set_title(f\"PCA plot for {file_name} datafile using DBSCAN Algorithm for epsilon = {eps} and minPoints = {minPts}\")\n",
    "\n",
    "# Giving Y axis label\n",
    "plot11.set_ylabel('Principle Component 2')\n",
    "\n",
    "# Saving the scatter plot as a PDF file\n",
    "# maplot.savefig(f\"PCA plot for {my_file} datafile using HAC Algorithm for {no_of_clusters} clusters\")"
   ]
  },
  {
   "cell_type": "code",
   "execution_count": 421,
   "metadata": {},
   "outputs": [
    {
     "name": "stdout",
     "output_type": "stream",
     "text": [
      "The Jaccard Cofficient for DBSCAN Algorithm for  clusters is: 0.486756450240998\n",
      "The Rand Index for DBSCAN Algorithm for  clusters is: 0.7007917355371901\n"
     ]
    }
   ],
   "source": [
    "# jaccard Cofficient and Rand Index\n",
    "\n",
    "# Taking the ground truth values from data file\n",
    "ground_truth = data[:, 1]\n",
    "\n",
    "# Defining empty ground truth and clustering matrix\n",
    "clustering_matrix = np.zeros((len(dataSelected),len(dataSelected)))\n",
    "ground_truth_matrix = np.zeros((len(dataSelected),len(dataSelected)))\n",
    "\n",
    "# Populating the ground truth and clustering matrix\n",
    "p = 0        \n",
    "while p <(clustering_matrix.shape[0]):\n",
    "    clustering_matrix[p][p] = 1\n",
    "    ground_truth_matrix[p][p] = 1\n",
    "    q = p+1\n",
    "    while q < clustering_matrix.shape[1]:\n",
    "        if clusterList[p] == clusterList[q]:\n",
    "            clustering_matrix[p][q] = 1\n",
    "            clustering_matrix[q][p] = 1\n",
    "        if ground_truth[p] != -1 and ground_truth[q] != -1 and ground_truth[p] == ground_truth[q]:\n",
    "            ground_truth_matrix[p][q] = 1\n",
    "            ground_truth_matrix[q][p] = 1\n",
    "        q += 1\n",
    "    p += 1\n",
    "# initializing variables\n",
    "# f11 = no. of pairs of objects having same class and same clusters\n",
    "# f00 = no. of pairs of objects having different class and different clusters\n",
    "# f01 = no. of pairs of objects having different class and same clusters\n",
    "# f10 = no. of pairs of objects having same class and different clusters\n",
    "f11=0\n",
    "f00=0\n",
    "f10=0\n",
    "f01=0\n",
    "\n",
    "# Calculating the values of same_class, same_cluster, different_class, different cluster table(in theory)\n",
    "for i in range(clustering_matrix.shape[0]):\n",
    "    for j in range(ground_truth_matrix.shape[1]):\n",
    "        if (clustering_matrix[i,j] == 1 and ground_truth_matrix[i,j] == 1):\n",
    "            f11 += 1\n",
    "        elif (clustering_matrix[i,j] == 0 and ground_truth_matrix[i,j] == 0):\n",
    "            f00 += 1\n",
    "        elif (clustering_matrix[i,j] == 1 and ground_truth_matrix[i,j] == 0):\n",
    "            f10 += 1\n",
    "        elif (clustering_matrix[i,j] == 0 and ground_truth_matrix[i,j] == 1):\n",
    "            f01 += 1\n",
    "\n",
    "# Calculating and printing the Jaccard Cofficient and Rand Index\n",
    "print(f\"The Jaccard Cofficient for DBSCAN Algorithm for  clusters is: {f11/(f11+f10+f01)}\")\n",
    "print(f\"The Rand Index for DBSCAN Algorithm for  clusters is: {(f11+f00)/(f11+f10+f01+f00)}\")"
   ]
  },
  {
   "cell_type": "code",
   "execution_count": null,
   "metadata": {},
   "outputs": [],
   "source": []
  },
  {
   "cell_type": "code",
   "execution_count": null,
   "metadata": {},
   "outputs": [],
   "source": []
  }
 ],
 "metadata": {
  "kernelspec": {
   "display_name": "Python 3",
   "language": "python",
   "name": "python3"
  },
  "language_info": {
   "codemirror_mode": {
    "name": "ipython",
    "version": 3
   },
   "file_extension": ".py",
   "mimetype": "text/x-python",
   "name": "python",
   "nbconvert_exporter": "python",
   "pygments_lexer": "ipython3",
   "version": "3.7.3"
  }
 },
 "nbformat": 4,
 "nbformat_minor": 2
}
