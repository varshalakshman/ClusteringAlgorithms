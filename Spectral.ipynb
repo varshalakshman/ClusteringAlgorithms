{
 "cells": [
  {
   "cell_type": "markdown",
   "metadata": {},
   "source": [
    "# CSE 601 Data Mining and Bioinformatics\n",
    "\n",
    "# Project 2: Clustering Algorithms"
   ]
  },
  {
   "cell_type": "markdown",
   "metadata": {},
   "source": [
    "# Part 2: Spectral Clustering\n",
    "\n",
    "Description: This program conducts clustering algorithm on gene expressions datasets (cho.txt and iyer.txt) to find clusters of genes that exhibit similar expression profiles.\n",
    "\n",
    "Submitted By:\n",
    "\n",
    "Name: Karan Manchandia | UBIT: karanman | Person No.: 50290755\n",
    "\n",
    "Name: Divya Srivastava | UBIT: divyasri | Person No.: 50290383\n",
    "\n",
    "Name: Varsha Lakshman | UBIT: varshala | Person No.: 50288138"
   ]
  },
  {
   "cell_type": "code",
   "execution_count": 313,
   "metadata": {},
   "outputs": [],
   "source": [
    "#Importing the libraries\n",
    "import numpy as np\n",
    "float_formatter = lambda x: \"%.3f\" % x\n",
    "np.set_printoptions(formatter={'float_kind':float_formatter})\n",
    "from sklearn.cluster import SpectralClustering, KMeans\n",
    "import pandas as pd\n",
    "from sklearn.decomposition import PCA\n",
    "import matplotlib.cm as mapcm\n",
    "import matplotlib.pyplot as maplot\n",
    "import math\n",
    "from numpy import linalg as LA"
   ]
  },
  {
   "cell_type": "code",
   "execution_count": 314,
   "metadata": {},
   "outputs": [
    {
     "name": "stdout",
     "output_type": "stream",
     "text": [
      "Enter the name of the gene expression data file:cho.txt\n",
      "Correct data file found and imported\n",
      "\n",
      "----------------------------------------------------------------------------------------\n",
      "\n"
     ]
    }
   ],
   "source": [
    "# Enter the data file name, open it and assign it to the variable data_file\n",
    "while True:\n",
    "    try:\n",
    "        my_file = input(\"Enter the name of the gene expression data file:\")\n",
    "        data_file = open(my_file)\n",
    "        \n",
    "    # In case of a error the except block will be executed\n",
    "    except:\n",
    "        print(\"Error: Could not find file or read data\")\n",
    "        continue\n",
    "        \n",
    "    # This block will be executed after correct data file name is entered\n",
    "    else:\n",
    "        print(\"Correct data file found and imported\\n\")\n",
    "        print(\"----------------------------------------------------------------------------------------\\n\")\n",
    "        break\n",
    "\n",
    "\n",
    "data__file= np.loadtxt(my_file, delimiter = \"\\t\", dtype=np.float)\n",
    "impo_data = data__file[:,2:]\n",
    "np.set_printoptions(suppress = False)"
   ]
  },
  {
   "cell_type": "code",
   "execution_count": 315,
   "metadata": {},
   "outputs": [],
   "source": [
    "#Method to compute sigma if user doesn't provide it\n",
    "def squared_exponential(x, y, sig, sig2):               \n",
    "    norm = np.linalg.norm(x - y)\n",
    "    dist = norm * norm\n",
    "    return np.exp(- dist / (2 * sig * sig2))"
   ]
  },
  {
   "cell_type": "code",
   "execution_count": 316,
   "metadata": {},
   "outputs": [
    {
     "name": "stdout",
     "output_type": "stream",
     "text": [
      "Do you want to enter sigma (Y or N): Y\n",
      "Enter sigma: 10\n"
     ]
    }
   ],
   "source": [
    "#Giving choice to the user to input sigma\n",
    "choice = input(\"Do you want to enter sigma (Y or N): \")\n",
    "if choice == 'N' or choice =='n':\n",
    "    #If choice is \"No\", then calculating the mean of the distances between two data points and set it as sigma value\n",
    "    Y = impo_data.shape[0]\n",
    "    W = np.zeros((Y, Y))\n",
    "    sig = []\n",
    "    for i in range(Y):\n",
    "        dists = []\n",
    "        for j in range(Y):\n",
    "            dists.append(np.linalg.norm(impo_data[i] - impo_data[j]))\n",
    "        dists.sort()\n",
    "        sig.append(np.mean(dists[:5]))\n",
    "\n",
    "    for i in range(Y):\n",
    "         for j in range(Y):\n",
    "            W[i][j] = squared_exponential(impo_data[i], impo_data[j], sig[i], sig[j])\n",
    "    print(W)\n",
    "else:\n",
    "    #If choice is \"yes\", then inputting the value of sigma from the user and calculating the W matrix\n",
    "    sigma = float(input(\"Enter sigma: \"))\n",
    "    N= len(impo_data)\n",
    "    W = np.zeros((N, N))\n",
    "    for i in range(W.shape[0]):\n",
    "        for j in range(W.shape[1]):\n",
    "            distance = math.exp(-(np.linalg.norm(impo_data[i]-impo_data[j])**2)/(sigma**2))\n",
    "            W[i][j] += distance"
   ]
  },
  {
   "cell_type": "code",
   "execution_count": 317,
   "metadata": {},
   "outputs": [],
   "source": [
    "# Degree matrix\n",
    "temp_arr=W.sum(axis=1, dtype='float')\n",
    "D= np.zeros((N, N), float)\n",
    "np.fill_diagonal(D, temp_arr)"
   ]
  },
  {
   "cell_type": "code",
   "execution_count": 318,
   "metadata": {},
   "outputs": [],
   "source": [
    "# laplacian matrix\n",
    "L = D - W"
   ]
  },
  {
   "cell_type": "code",
   "execution_count": 319,
   "metadata": {},
   "outputs": [
    {
     "name": "stdout",
     "output_type": "stream",
     "text": [
      "eigenvalues:\n",
      "[-5.96044969e-14  1.79556909e+02  2.90720364e+02  2.95949055e+02\n",
      "  2.98340071e+02  3.06233362e+02  3.08957035e+02  3.09411495e+02\n",
      "  3.11408460e+02  3.14232238e+02  3.16109635e+02  3.17391721e+02\n",
      "  3.17579925e+02  3.18625055e+02  3.19562753e+02  3.19785685e+02\n",
      "  3.20255825e+02  3.20482883e+02  3.20901487e+02  3.21176411e+02\n",
      "  3.21298170e+02  3.22523125e+02  3.23554900e+02  3.23867938e+02\n",
      "  3.23973517e+02  3.24041697e+02  3.24278285e+02  3.24549091e+02\n",
      "  3.24818653e+02  3.24832475e+02  3.25113932e+02  3.25508908e+02\n",
      "  3.25789121e+02  3.26025742e+02  3.26688503e+02  3.27526252e+02\n",
      "  3.28505172e+02  3.28594467e+02  3.29127660e+02  3.29494318e+02\n",
      "  3.29816814e+02  3.30010528e+02  3.30180016e+02  3.30600196e+02\n",
      "  3.30743892e+02  3.31040730e+02  3.31297192e+02  3.31449944e+02\n",
      "  3.31705713e+02  3.31916519e+02  3.32022270e+02  3.32440795e+02\n",
      "  3.32509874e+02  3.33081284e+02  3.33344326e+02  3.33599833e+02\n",
      "  3.33785682e+02  3.33839297e+02  3.33890609e+02  3.34010490e+02\n",
      "  3.34085477e+02  3.34111041e+02  3.34296081e+02  3.34526366e+02\n",
      "  3.34971747e+02  3.35232261e+02  3.35368112e+02  3.35636572e+02\n",
      "  3.35753393e+02  3.35923317e+02  3.35948020e+02  3.36083087e+02\n",
      "  3.36105223e+02  3.36320725e+02  3.36414998e+02  3.36547364e+02\n",
      "  3.36761182e+02  3.36859879e+02  3.36952003e+02  3.37135748e+02\n",
      "  3.37238213e+02  3.37344933e+02  3.37370835e+02  3.37548441e+02\n",
      "  3.37714052e+02  3.37996003e+02  3.38225289e+02  3.38549539e+02\n",
      "  3.38846969e+02  3.39072019e+02  3.39181397e+02  3.39361047e+02\n",
      "  3.39398898e+02  3.39500319e+02  3.39700735e+02  3.39818256e+02\n",
      "  3.40076758e+02  3.40369023e+02  3.40576146e+02  3.40743064e+02\n",
      "  3.40781917e+02  3.40960990e+02  3.41223854e+02  3.41341134e+02\n",
      "  3.41434028e+02  3.41528063e+02  3.41586398e+02  3.41626352e+02\n",
      "  3.41822669e+02  3.41983057e+02  3.42016486e+02  3.42139416e+02\n",
      "  3.42152003e+02  3.42220983e+02  3.42286074e+02  3.42421059e+02\n",
      "  3.42535743e+02  3.42567107e+02  3.42710357e+02  3.42905113e+02\n",
      "  3.42913887e+02  3.43057744e+02  3.43135952e+02  3.43422216e+02\n",
      "  3.43437227e+02  3.43599923e+02  3.43872166e+02  3.43876373e+02\n",
      "  3.44010187e+02  3.44095285e+02  3.44136557e+02  3.44264487e+02\n",
      "  3.44359214e+02  3.44449802e+02  3.44511084e+02  3.44551467e+02\n",
      "  3.44700075e+02  3.44800785e+02  3.45063481e+02  3.45311912e+02\n",
      "  3.45330789e+02  3.45378929e+02  3.45493150e+02  3.45603615e+02\n",
      "  3.45721294e+02  3.46037663e+02  3.46118362e+02  3.46219938e+02\n",
      "  3.46285739e+02  3.46313608e+02  3.46486047e+02  3.46545733e+02\n",
      "  3.46667613e+02  3.46773609e+02  3.46902534e+02  3.47059341e+02\n",
      "  3.47129191e+02  3.47300063e+02  3.47355962e+02  3.47463942e+02\n",
      "  3.47620528e+02  3.47711280e+02  3.47723445e+02  3.47782257e+02\n",
      "  3.47861278e+02  3.47943638e+02  3.48058213e+02  3.48239236e+02\n",
      "  3.48294471e+02  3.48511613e+02  3.48597799e+02  3.48633227e+02\n",
      "  3.48746152e+02  3.48915883e+02  3.49042794e+02  3.49092556e+02\n",
      "  3.49175609e+02  3.49192035e+02  3.49282589e+02  3.49315882e+02\n",
      "  3.49364667e+02  3.49411547e+02  3.49468913e+02  3.49520681e+02\n",
      "  3.49559643e+02  3.49625348e+02  3.49658484e+02  3.49721687e+02\n",
      "  3.49772872e+02  3.49823657e+02  3.49867089e+02  3.49890001e+02\n",
      "  3.49915055e+02  3.49979791e+02  3.50045350e+02  3.50072801e+02\n",
      "  3.50133186e+02  3.50139135e+02  3.50215708e+02  3.50297367e+02\n",
      "  3.50380605e+02  3.50401154e+02  3.50419336e+02  3.50432544e+02\n",
      "  3.50472095e+02  3.50498028e+02  3.50529012e+02  3.50620711e+02\n",
      "  3.50656278e+02  3.50766786e+02  3.50807884e+02  3.50835503e+02\n",
      "  3.50870419e+02  3.50934471e+02  3.50955446e+02  3.50998247e+02\n",
      "  3.51033360e+02  3.51084097e+02  3.51110464e+02  3.51151698e+02\n",
      "  3.51227185e+02  3.51269145e+02  3.51295326e+02  3.51404402e+02\n",
      "  3.51498641e+02  3.51575161e+02  3.51605921e+02  3.51695393e+02\n",
      "  3.51861908e+02  3.51940005e+02  3.51979280e+02  3.52008210e+02\n",
      "  3.52031308e+02  3.52116435e+02  3.52147882e+02  3.52262846e+02\n",
      "  3.52280410e+02  3.52402787e+02  3.52428306e+02  3.52514496e+02\n",
      "  3.52568288e+02  3.52658372e+02  3.52730846e+02  3.52840389e+02\n",
      "  3.52981256e+02  3.53061759e+02  3.53125259e+02  3.53172257e+02\n",
      "  3.53280919e+02  3.53367211e+02  3.53472700e+02  3.53525103e+02\n",
      "  3.53553501e+02  3.53598055e+02  3.53621169e+02  3.53641474e+02\n",
      "  3.53729892e+02  3.53752224e+02  3.53817334e+02  3.53825600e+02\n",
      "  3.53860915e+02  3.53914592e+02  3.53958038e+02  3.53996010e+02\n",
      "  3.54003285e+02  3.54081332e+02  3.54085729e+02  3.54118777e+02\n",
      "  3.54163928e+02  3.54186631e+02  3.54269642e+02  3.54350515e+02\n",
      "  3.54381151e+02  3.54411836e+02  3.54443589e+02  3.54450558e+02\n",
      "  3.54531254e+02  3.54599849e+02  3.54736298e+02  3.54810734e+02\n",
      "  3.54930043e+02  3.55009574e+02  3.55110012e+02  3.55191774e+02\n",
      "  3.55243417e+02  3.55260936e+02  3.55289032e+02  3.55338742e+02\n",
      "  3.55393203e+02  3.55430382e+02  3.55477416e+02  3.55520019e+02\n",
      "  3.55563191e+02  3.55604474e+02  3.55615070e+02  3.55653108e+02\n",
      "  3.55659061e+02  3.55763613e+02  3.55934084e+02  3.55983153e+02\n",
      "  3.56013518e+02  3.56056220e+02  3.56201722e+02  3.56223266e+02\n",
      "  3.56329888e+02  3.56349838e+02  3.56376343e+02  3.56423647e+02\n",
      "  3.56534514e+02  3.56595442e+02  3.56686397e+02  3.56786392e+02\n",
      "  3.56904031e+02  3.56957987e+02  3.56973285e+02  3.57039288e+02\n",
      "  3.57109414e+02  3.57175769e+02  3.57185066e+02  3.57201276e+02\n",
      "  3.57211561e+02  3.57287487e+02  3.57360534e+02  3.57378193e+02\n",
      "  3.57415001e+02  3.57442509e+02  3.57584851e+02  3.57631099e+02\n",
      "  3.57672857e+02  3.57764576e+02  3.57826978e+02  3.57838898e+02\n",
      "  3.57940875e+02  3.58026514e+02  3.58058978e+02  3.58104050e+02\n",
      "  3.58316517e+02  3.58404143e+02  3.58589681e+02  3.58657987e+02\n",
      "  3.58710544e+02  3.58739788e+02  3.58791059e+02  3.58851707e+02\n",
      "  3.58878059e+02  3.59043486e+02  3.59180741e+02  3.59189157e+02\n",
      "  3.59232656e+02  3.59235295e+02  3.59255954e+02  3.59277745e+02\n",
      "  3.59385423e+02  3.59419461e+02  3.59458631e+02  3.59490876e+02\n",
      "  3.59538156e+02  3.59594143e+02  3.59634753e+02  3.59667030e+02\n",
      "  3.59751963e+02  3.59961096e+02  3.60038950e+02  3.60063266e+02\n",
      "  3.60238421e+02  3.60561522e+02  3.60632291e+02  3.60722345e+02\n",
      "  3.60800509e+02  3.60880020e+02  3.60942373e+02  3.61058555e+02\n",
      "  3.61106086e+02  3.61156894e+02  3.61471402e+02  3.61619152e+02\n",
      "  3.62271571e+02  3.62484722e+02  3.62577720e+02  3.62615734e+02\n",
      "  3.62651271e+02  3.62731433e+02  3.62820191e+02  3.62901575e+02\n",
      "  3.63040750e+02  3.63700319e+02]\n",
      "eigenvectors:\n",
      "[[-5.08986599e-02  2.27186306e-03  2.99721799e-04 ...  1.25058151e-03\n",
      "  -7.56611241e-04  1.24820343e-03]\n",
      " [-5.08986599e-02  3.12084449e-03 -3.77019584e-03 ...  1.67911919e-03\n",
      "  -1.61816342e-03  1.29593398e-03]\n",
      " [-5.08986599e-02  2.55062589e-03 -1.47661784e-03 ...  3.37482729e-03\n",
      "  -2.51816705e-03  3.32328639e-03]\n",
      " ...\n",
      " [-5.08986599e-02 -9.98572818e-01 -3.93696873e-03 ...  6.53342443e-05\n",
      "   2.44652794e-05  1.63184543e-04]\n",
      " [-5.08986599e-02  1.65412389e-03  7.78897546e-04 ...  9.62706674e-04\n",
      "  -1.24149235e-04  1.48310667e-03]\n",
      " [-5.08986599e-02  9.93865926e-04  3.44854793e-03 ...  6.48692596e-04\n",
      "  -4.99408369e-04  1.01530156e-03]]\n"
     ]
    }
   ],
   "source": [
    "#Calculating eigen values and eigen vectors. The eigen values obtained will be sorted\n",
    "e, v = LA.eigh(L)\n",
    "\n",
    "# eigenvalues\n",
    "print('eigenvalues:')\n",
    "print(e)\n",
    "\n",
    "# eigenvectors\n",
    "print('eigenvectors:')\n",
    "print(v)"
   ]
  },
  {
   "cell_type": "code",
   "execution_count": 320,
   "metadata": {},
   "outputs": [
    {
     "name": "stdout",
     "output_type": "stream",
     "text": [
      "Eigen gap calculated for sigma value 10.0 is: 2\n"
     ]
    }
   ],
   "source": [
    "#Calculating the eigengap\n",
    "temp=[]\n",
    "for i in range (len(e)-1):\n",
    "    gap = abs(e[i]-e[i+1])\n",
    "    temp.append(gap)\n",
    "maxi=0\n",
    "for q, value in enumerate(temp):\n",
    "    if value > maxi:\n",
    "        maxi=value\n",
    "        index = q\n",
    "eigengap= index + 2\n",
    "k_gap= eigengap\n",
    "print(f\"Eigen gap calculated for sigma value {sigma} is: {k_gap}\")       "
   ]
  },
  {
   "cell_type": "code",
   "execution_count": 321,
   "metadata": {},
   "outputs": [
    {
     "name": "stdout",
     "output_type": "stream",
     "text": [
      "Enter the total number of centroids:\n",
      "5\n",
      "\n",
      "Total number of centroids is set to be 5\n"
     ]
    }
   ],
   "source": [
    "# Taking input from the user for the total number of centroids\n",
    "while True:\n",
    "    try:\n",
    "        K = int(input(\"Enter the total number of centroids:\\n\"))\n",
    "        \n",
    "    # In case of a error(such as entering a string insterd of number) the except block will be executed\n",
    "    except:\n",
    "        print(\"Error: Please enter a number(int)\")\n",
    "        continue\n",
    "        \n",
    "    # This block will be executed after correct centroid number is entered\n",
    "    else:\n",
    "        print(\"\\nTotal number of centroids is set to be {}\".format(K))\n",
    "        break\n",
    "    "
   ]
  },
  {
   "cell_type": "code",
   "execution_count": 322,
   "metadata": {},
   "outputs": [],
   "source": [
    "# First \"n_clusters\" eigen vectors as input to kmeans\n",
    "k_mean_input= np.array(v[:,:k_gap])"
   ]
  },
  {
   "cell_type": "code",
   "execution_count": 323,
   "metadata": {},
   "outputs": [
    {
     "name": "stdout",
     "output_type": "stream",
     "text": [
      "Do you want to enter initial centroids (Y or N): Y\n",
      "Enter initial centers indices: 1,3,5,7,9\n",
      "[[-0.05089866  0.00227186]\n",
      " [-0.05089866  0.00255063]\n",
      " [-0.05089866  0.00230806]\n",
      " [-0.05089866  0.00242464]\n",
      " [-0.05089866  0.00247499]]\n",
      "No. of centroids, K = 5\n"
     ]
    }
   ],
   "source": [
    "#Giving choice to either input the initial cluster centre indices or selecting the first K cluster centers as per the user's choice \n",
    "cent = input(\"Do you want to enter initial centroids (Y or N): \")\n",
    "if cent == 'N' or cent =='n':\n",
    "    #Inputting the number of centroids and creating a numpy array of centroids with first K data elements, if choice is 'No'\n",
    "    centroid = []\n",
    "    for i in range(K):\n",
    "        centroid.append(k_mean_input[i])\n",
    "    centroids= np.asarray(centroid)\n",
    "else:\n",
    "    #Inputting the initial centre indices from the user if the choice is 'Yes'\n",
    "    cent_indices = input(\"Enter initial centers indices: \")\n",
    "    centroids = k_mean_input[np.asarray(cent_indices.split(',')).astype(int)-1,:].astype(float)\n",
    "# Setting 'K' as the number of centroids\n",
    "K = len(centroids)\n",
    "print(centroids)\n",
    "print(\"No. of centroids, K = \"+str(len(centroids)))\n"
   ]
  },
  {
   "cell_type": "code",
   "execution_count": 324,
   "metadata": {},
   "outputs": [
    {
     "name": "stdout",
     "output_type": "stream",
     "text": [
      "The cluster labels for each data points are: \n",
      "[3 4 4 3 3 3 3 4 4 3 4 2 3 3 4 3 3 4 4 3 4 3 4 3 4 1 3 1 4 2 4 4 3 3 3 1 4\n",
      " 4 3 3 3 2 3 4 3 3 3 3 4 4 4 3 4 3 4 3 4 4 3 3 4 4 4 4 4 2 4 1 1 1 1 1 1 1\n",
      " 1 1 1 4 4 1 1 4 1 4 4 4 4 1 4 1 1 1 1 1 1 4 4 1 1 4 4 1 1 1 4 1 1 1 1 4 1\n",
      " 4 1 1 4 1 4 1 1 1 1 1 1 1 4 1 4 4 4 4 1 4 4 3 1 4 4 4 1 4 1 4 4 4 4 3 4 4\n",
      " 1 4 1 1 1 1 4 1 1 1 1 1 1 4 1 4 1 1 1 4 1 4 4 1 4 4 1 3 4 4 1 4 3 1 4 4 4\n",
      " 4 4 3 4 3 4 1 4 4 1 4 1 4 4 4 4 4 3 4 4 4 4 4 4 3 2 4 4 4 1 4 3 4 4 3 3 3\n",
      " 4 4 4 4 3 1 3 4 1 4 4 4 4 4 3 4 3 4 4 4 3 4 4 1 1 4 4 4 3 1 1 3 4 3 3 4 4\n",
      " 3 1 4 4 4 4 4 4 3 1 4 4 1 1 4 4 4 4 3 3 2 3 3 2 2 3 3 4 3 4 3 3 3 4 4 3 3\n",
      " 3 4 4 3 3 4 3 2 3 3 3 3 3 3 4 4 2 3 3 3 3 3 2 2 3 3 4 3 3 3 3 4 4 3 3 3 2\n",
      " 2 2 2 3 2 2 3 3 3 2 2 2 2 3 2 2 2 3 3 3 3 3 3 2 3 3 3 3 3 2 3 3 3 2 2 3 4\n",
      " 3 2 2 3 2 2 3 2 3 2 2 3 3 0 3 2]\n",
      "The final centroid values are: \n",
      "[[-5.08986599e-02 -9.98572818e-01]\n",
      " [-5.08986599e-02  3.61129195e-03]\n",
      " [-5.08986599e-02  9.50927587e-04]\n",
      " [-5.08986599e-02  2.09013512e-03]\n",
      " [-5.08986599e-02  2.84703937e-03]]\n"
     ]
    },
    {
     "name": "stderr",
     "output_type": "stream",
     "text": [
      "C:\\Users\\divya\\Anaconda3\\lib\\site-packages\\sklearn\\cluster\\k_means_.py:972: RuntimeWarning: Explicit initial center position passed: performing only one init in k-means instead of n_init=10\n",
      "  return_n_iter=True)\n"
     ]
    }
   ],
   "source": [
    "#Executing KMeans on the reduced dataset as per the first \"n_clusters\" eigen-vectors. Inputs are number of centroids \"K\" and initial centroid values\n",
    "km = KMeans(init=centroids, n_clusters=K)\n",
    "km.fit(k_mean_input)\n",
    "print(\"The cluster labels for each data points are: \")\n",
    "print(km.labels_)\n",
    "print(\"The final centroid values are: \")\n",
    "print(km.cluster_centers_)\n"
   ]
  },
  {
   "cell_type": "code",
   "execution_count": 325,
   "metadata": {},
   "outputs": [
    {
     "name": "stdout",
     "output_type": "stream",
     "text": [
      "Unique index values: \n",
      "[0, 1, 2, 3, 4]\n"
     ]
    }
   ],
   "source": [
    "#Calculating the unique clusters values for plotting purpose\n",
    "index_clstr_unq = []\n",
    "for item5 in km.labels_:\n",
    "    if item5 not in index_clstr_unq:\n",
    "        index_clstr_unq.append(item5)\n",
    "index_clstr_unq.sort()\n",
    "print(\"Unique index values: \")\n",
    "print(index_clstr_unq)"
   ]
  },
  {
   "cell_type": "code",
   "execution_count": 326,
   "metadata": {},
   "outputs": [],
   "source": [
    "#Applying PCA for feature reduction to 2 dimensions on original data\n",
    "pca_set = PCA(n_components=2, svd_solver='full')\n",
    "pca_set.fit(impo_data)\n",
    "new_factors = pca_set.transform(impo_data)"
   ]
  },
  {
   "cell_type": "code",
   "execution_count": 327,
   "metadata": {},
   "outputs": [],
   "source": [
    "#Calculating ground truth matrix\n",
    "data_file2 = data__file[:,1].astype(int)\n",
    "gt_matrix = np.zeros((len(data_file2),len(data_file2)))\n",
    "for i in range(len(data_file2)):\n",
    "    for j in range(len(data_file2)):\n",
    "        val = 1 if (data_file2[i]==data_file2[j]) else 0\n",
    "        gt_matrix[i][j] = val"
   ]
  },
  {
   "cell_type": "code",
   "execution_count": 328,
   "metadata": {},
   "outputs": [],
   "source": [
    "#Calculating clustering index matrix\n",
    "classes = km.labels_.astype(int)\n",
    "inc_matrix = np.zeros((len(classes),len(classes)))\n",
    "\n",
    "for i in range(len(classes)):\n",
    "    for j in range(len(classes)):\n",
    "        val = 1 if (classes[i]==classes[j]) else 0\n",
    "        inc_matrix[i][j] = val\n",
    "cluster_matrix = inc_matrix"
   ]
  },
  {
   "cell_type": "code",
   "execution_count": 329,
   "metadata": {},
   "outputs": [],
   "source": [
    "# Deriving the dimension parameters from cluster matrix and ground truth matrix for external index calculation\n",
    "f11 = f00 = f10 = f01 = 0.0\n",
    "for i in range(len(gt_matrix)):\n",
    "    for j in range(len(gt_matrix)):\n",
    "        if gt_matrix[i][j] == cluster_matrix[i][j]:\n",
    "            if gt_matrix[i][j] == 1:\n",
    "                f11 += 1\n",
    "            else:\n",
    "                f00 += 1\n",
    "        else:\n",
    "            if gt_matrix[i][j] == 1:\n",
    "                f10 += 1\n",
    "            else:\n",
    "                f01 += 1\n",
    "\n",
    "\n",
    "#Calculating the Jaccard and Rand coefficients using the calculated dimension values for validation of results\n",
    "Jaccard= str(f11/(f11 + f10 + f01))  \n",
    "Rand= str((f11 + f00)/(f11 + f00 + f10 + f01))\n"
   ]
  },
  {
   "cell_type": "code",
   "execution_count": 330,
   "metadata": {},
   "outputs": [
    {
     "name": "stderr",
     "output_type": "stream",
     "text": [
      "'c' argument looks like a single numeric RGB or RGBA sequence, which should be avoided as value-mapping will have precedence in case its length matches with 'x' & 'y'.  Please use a 2-D array with a single row if you really want to specify the same RGB or RGBA value for all points.\n",
      "'c' argument looks like a single numeric RGB or RGBA sequence, which should be avoided as value-mapping will have precedence in case its length matches with 'x' & 'y'.  Please use a 2-D array with a single row if you really want to specify the same RGB or RGBA value for all points.\n",
      "'c' argument looks like a single numeric RGB or RGBA sequence, which should be avoided as value-mapping will have precedence in case its length matches with 'x' & 'y'.  Please use a 2-D array with a single row if you really want to specify the same RGB or RGBA value for all points.\n",
      "'c' argument looks like a single numeric RGB or RGBA sequence, which should be avoided as value-mapping will have precedence in case its length matches with 'x' & 'y'.  Please use a 2-D array with a single row if you really want to specify the same RGB or RGBA value for all points.\n",
      "'c' argument looks like a single numeric RGB or RGBA sequence, which should be avoided as value-mapping will have precedence in case its length matches with 'x' & 'y'.  Please use a 2-D array with a single row if you really want to specify the same RGB or RGBA value for all points.\n"
     ]
    },
    {
     "name": "stdout",
     "output_type": "stream",
     "text": [
      "The file name is: cho.txt\n",
      "The number of centroids i.e. cluster centers are: 5\n",
      "Sigma is: 10.0\n",
      "Initial centroids are: \n",
      "[[-0.05089866  0.00227186]\n",
      " [-0.05089866  0.00255063]\n",
      " [-0.05089866  0.00230806]\n",
      " [-0.05089866  0.00242464]\n",
      " [-0.05089866  0.00247499]]\n",
      "New updated centroids after k means application: \n",
      "[[-5.08986599e-02 -9.98572818e-01]\n",
      " [-5.08986599e-02  3.61129195e-03]\n",
      " [-5.08986599e-02  9.50927587e-04]\n",
      " [-5.08986599e-02  2.09013512e-03]\n",
      " [-5.08986599e-02  2.84703937e-03]]\n",
      "The RAND coefficient is: 0.6831727026228892\n",
      "The JACCARD coefficient is: 0.24792888095845017\n"
     ]
    },
    {
     "data": {
      "image/png": "[encoded data removed]",
      "text/plain": [
       "<Figure size 432x288 with 1 Axes>"
      ]
     },
     "metadata": {},
     "output_type": "display_data"
    }
   ],
   "source": [
    "# Generating variable number of colors\n",
    "var_col = mapcm.Set1(np.linspace (0,1,len(index_clstr_unq)))\n",
    "\n",
    "# # Plotting the final dataframe with disease names\n",
    "plot1 = maplot.figure()\n",
    "plot11 = plot1.add_subplot(111)\n",
    "\n",
    "# Taking first and second columns from new_factors()\n",
    "first_col = new_factors[:,0]\n",
    "second_col = new_factors[:,1]\n",
    "\n",
    "# Calculating the coordinates for the plot\n",
    "for x, y in enumerate(index_clstr_unq):\n",
    "    temp_a = []\n",
    "    temp_b = []\n",
    "    \n",
    "    # Populating temp_a list\n",
    "    for (m,n) in enumerate(first_col):\n",
    "        if km.labels_[m] == y:\n",
    "            temp_a.append(n)\n",
    "            \n",
    "    # Populating temp_b list\n",
    "    for (m,n) in enumerate(second_col):\n",
    "        if km.labels_[m] == y:\n",
    "            temp_b.append(n)\n",
    "    \n",
    "    # Converting labels to string\n",
    "    l = str(int(y))\n",
    "    \n",
    "    # Plotting the graph\n",
    "    plot11.scatter(temp_a,temp_b, c=var_col[x], label=l)\n",
    "    \n",
    "#giving the location of the legend as \"best\"\n",
    "#This would place the legend at the location in the graph that would overcover minimum data points\n",
    "plot11.legend(loc='best')\n",
    "\n",
    "# Giving X axis label\n",
    "plot11.set_xlabel('Principle Component 1')\n",
    "\n",
    "# Giving the title for the graph\n",
    "plot11.set_title(f\"PCA plot for {my_file} datafile using spectral Algorithm for {K} clusters\")\n",
    "\n",
    "# Giving Y axis label\n",
    "plot11.set_ylabel('Principle Component 2')\n",
    "\n",
    "# Saving the scatter plot as a PDF file\n",
    "# maplot.savefig(f\"PCA plot for {my_file} datafile using HAC Algorithm for {no_of_clusters} clusters\")\n",
    "\n",
    "#Displaying the results\n",
    "print(f\"The file name is: {my_file}\")\n",
    "print(f\"The number of centroids i.e. cluster centers are: {K}\")\n",
    "print(f\"Sigma is: {sigma}\")\n",
    "print(f\"Initial centroids are: \")\n",
    "print(centroids)\n",
    "print(f\"New updated centroids after k means application: \")\n",
    "print(km.cluster_centers_)\n",
    "print(f\"The RAND coefficient is: {Rand}\")\n",
    "print(f\"The JACCARD coefficient is: {Jaccard}\")"
   ]
  },
  {
   "cell_type": "code",
   "execution_count": null,
   "metadata": {},
   "outputs": [],
   "source": []
  },
  {
   "cell_type": "code",
   "execution_count": null,
   "metadata": {},
   "outputs": [],
   "source": []
  }
 ],
 "metadata": {
  "kernelspec": {
   "display_name": "Python 3",
   "language": "python",
   "name": "python3"
  },
  "language_info": {
   "codemirror_mode": {
    "name": "ipython",
    "version": 3
   },
   "file_extension": ".py",
   "mimetype": "text/x-python",
   "name": "python",
   "nbconvert_exporter": "python",
   "pygments_lexer": "ipython3",
   "version": "3.7.1"
  }
 },
 "nbformat": 4,
 "nbformat_minor": 2
}
