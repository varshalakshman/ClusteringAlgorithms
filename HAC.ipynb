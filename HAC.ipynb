{
 "cells": [
  {
   "cell_type": "markdown",
   "metadata": {},
   "source": [
    "# CSE 601 Data Mining and Bioinformatics\n",
    "# Project 2: Clustering Algorithms"
   ]
  },
  {
   "cell_type": "markdown",
   "metadata": {},
   "source": [
    "# Part 2: Hierarchical Agglomerative Clustering\n",
    "Description: This program conducts clustering algorithm on gene expressions datasets (cho.txt and iyer.txt) to find clusters of genes that exhibit similar expression profiles.\n",
    "\n",
    "Submitted By:\n",
    "    \n",
    "Name: Karan Manchandia | \n",
    "UBIT: karanman | \n",
    "Person No.: 50290755\n",
    "    \n",
    "Name: Divya Srivastava | \n",
    "UBIT: divyasri | \n",
    "Person No.: 50290383\n",
    "\n",
    "Name: Varsha Lakshman | \n",
    "UBIT: varshala | \n",
    "Person No.: 50288138 "
   ]
  },
  {
   "cell_type": "code",
   "execution_count": 1,
   "metadata": {},
   "outputs": [],
   "source": [
    "#Importing Libraries\n",
    "\n",
    "import sys\n",
    "import pandas as pandas\n",
    "import numpy as numpy\n",
    "import matplotlib.pyplot as maplot\n",
    "from sklearn.decomposition import PCA\n",
    "from scipy.linalg import norm as scipynorm\n",
    "import matplotlib.cm as mapcm"
   ]
  },
  {
   "cell_type": "code",
   "execution_count": 2,
   "metadata": {},
   "outputs": [
    {
     "name": "stdout",
     "output_type": "stream",
     "text": [
      "Enter the name of the gene expression data file:new_dataset_2.txt\n",
      "Correct data file found and imported\n",
      "\n",
      "----------------------------------------------------------------------------------------\n",
      "\n",
      "The given data file in a numpy matrix is shown below: \n",
      "\n",
      "[[ 0.88845  0.96682  0.93679  0.81723  0.88242]\n",
      " [ 0.86257  0.85462  0.86419  0.84451  0.86159]\n",
      " [ 0.9402   0.91072  0.93074  0.93317  0.94034]\n",
      " [-0.57792 -1.008   -0.81377 -0.3012  -0.55201]\n",
      " [-1.1451  -0.90137 -1.0215  -1.2628  -1.1573 ]\n",
      " [-0.96824 -0.82282 -0.89646 -1.0309  -0.97505]]\n"
     ]
    }
   ],
   "source": [
    "# Enter the data file name, open it and assign it to the variable data_file\n",
    "while True:\n",
    "    try:\n",
    "        my_file = input(\"Enter the name of the gene expression data file:\")\n",
    "        data_file = open(my_file)\n",
    "        \n",
    "    # In case of a error the except block will be executed\n",
    "    except:\n",
    "        print(\"Error: Could not find file or read data\")\n",
    "        continue\n",
    "        \n",
    "    # This block will be executed after correct data file name is entered\n",
    "    else:\n",
    "        print(\"Correct data file found and imported\\n\")\n",
    "        print(\"----------------------------------------------------------------------------------------\\n\")\n",
    "        break\n",
    "    \n",
    "#set the numpy matrix to display maxsize\n",
    "numpy.set_printoptions(threshold=sys.maxsize)\n",
    "\n",
    "#set numpy matrix to display floating point numbers \n",
    "numpy.set_printoptions(suppress=True)\n",
    "\n",
    "# Load the data from tab delimited text file\n",
    "# genfromtxt function imports the text file into a numpy matrix \n",
    "# INPUT parameters: my_file and deliminator\n",
    "data__file = numpy.genfromtxt(data_file, delimiter = \"\\t\")\n",
    "\n",
    "# We have removed the gene id and ground truth cluster column when importing data from the text file into a numpy matrix\n",
    "impo_data = data__file[:,2:]\n",
    "\n",
    "# Print given data file numpy matrix\n",
    "print(f\"The given data file in a numpy matrix is shown below: \\n\\n{impo_data}\")\n"
   ]
  },
  {
   "cell_type": "code",
   "execution_count": 3,
   "metadata": {},
   "outputs": [
    {
     "name": "stderr",
     "output_type": "stream",
     "text": [
      "C:\\Users\\divya\\Anaconda3\\lib\\site-packages\\ipykernel_launcher.py:8: FutureWarning: Method .as_matrix will be removed in a future version. Use .values instead.\n",
      "  \n"
     ]
    }
   ],
   "source": [
    "# Converting numpy matrix to pandas data frame in order to remove columns with zero standard deviation\n",
    "\n",
    "# Converting numpy matrix into pandas dataframe\n",
    "temp_df = pandas.DataFrame(impo_data)\n",
    "# Dropping columns with zero standard deviation\n",
    "temp_df.drop(temp_df.std()[temp_df.std() == 0 ].index.values, axis=1)\n",
    "# Converting pandas data frame again to numpy matrix\n",
    "impo_data = temp_df.as_matrix()\n",
    "norm_data = impo_data\n",
    "\n",
    "# Assigning length of norm_data to a variable\n",
    "norm_data_size1 = len(norm_data)\n",
    "\n",
    "# Converting gene_expr_ids to a numpy array\n",
    "gene_expr_id = numpy.array(list(range(len(norm_data))))"
   ]
  },
  {
   "cell_type": "code",
   "execution_count": 4,
   "metadata": {},
   "outputs": [
    {
     "name": "stdout",
     "output_type": "stream",
     "text": [
      "Enter the total number of clusters:\n",
      "2\n",
      "\n",
      "Total number of clusters is set to be 2\n"
     ]
    }
   ],
   "source": [
    "# Taking input from the user for the total number of clusters\n",
    "while True:\n",
    "    try:\n",
    "        no_of_clusters = int(input(\"Enter the total number of clusters:\\n\"))\n",
    "        \n",
    "    # In case of a error(such as entering a string insterd of number) the except block will be executed\n",
    "    except:\n",
    "        print(\"Error: Please enter a number(int)\")\n",
    "        continue\n",
    "        \n",
    "    # This block will be executed after correct data file name is entered\n",
    "    else:\n",
    "        print(\"\\nTotal number of clusters is set to be {}\".format(no_of_clusters))\n",
    "        break\n",
    "    "
   ]
  },
  {
   "cell_type": "code",
   "execution_count": 5,
   "metadata": {},
   "outputs": [
    {
     "name": "stdout",
     "output_type": "stream",
     "text": [
      "The size of the distance matrix is: (15, 3)\n",
      "\n",
      "\n",
      "The distance matrix is shown below:\n",
      "\n",
      "[[0.         1.         0.14038327]\n",
      " [0.         2.         0.15052802]\n",
      " [0.         3.         3.52464047]\n",
      " [0.         4.         4.4662447 ]\n",
      " [0.         5.         4.10812536]\n",
      " [1.         2.         0.16632705]\n",
      " [1.         3.         3.41625977]\n",
      " [1.         4.         4.38026697]\n",
      " [1.         5.         4.01944869]\n",
      " [2.         3.         3.57495003]\n",
      " [2.         4.         4.5459614 ]\n",
      " [2.         5.         4.18476449]\n",
      " [3.         4.         1.29122632]\n",
      " [3.         5.         0.95126437]\n",
      " [4.         5.         0.37426894]]\n"
     ]
    }
   ],
   "source": [
    "# Calculating the distance matrix\n",
    "\n",
    "# calculating the number of row in the distance matrix.\n",
    "norm_dist_size = int((len(norm_data) ** 2 - len(norm_data)) / 2)\n",
    "#print(norm_dist_size)\n",
    "\n",
    "# Creating an empty numpy matrix for distance matrix(norm_dist)\n",
    "norm_dist = numpy.empty((norm_dist_size, 3))\n",
    "print(\"The size of the distance matrix is: {}\\n\\n\".format(norm_dist.shape))\n",
    "\n",
    "# Populating the norm_dist(distance matrix)with the distance between normalized data points\n",
    "temp1 = 0\n",
    "temp2 = 0\n",
    "while temp2<(len(norm_data)-1):\n",
    "    temp3 = temp2 + 1\n",
    "    while temp3 < len(norm_data):\n",
    "        temp4 = (scipynorm(norm_data[temp2]-norm_data[temp3]))\n",
    "        norm_dist[temp1] = [temp2, temp3, temp4]\n",
    "        temp1 = temp1 + 1\n",
    "        temp3 = temp3 + 1\n",
    "    temp2 = temp2 + 1\n",
    "    \n",
    "# Printing the distance matrix\n",
    "print(\"The distance matrix is shown below:\\n\\n{}\".format(norm_dist))\n",
    "    "
   ]
  },
  {
   "cell_type": "code",
   "execution_count": 6,
   "metadata": {},
   "outputs": [],
   "source": [
    "#Hierarchical Aggolomerative Clustering Algorithm:\n",
    "\n",
    "# Sorting the distance numpy array(norm_dist) by distance\n",
    "norm_dist_sorted = norm_dist[numpy.argsort(norm_dist[:, 2])]\n",
    "\n",
    "# Creating a pandas datafram from the distance matrix\n",
    "norm_dist_df= pandas.DataFrame({'Point1':[item[0] for item in norm_dist_sorted],'Point2':[item[1] for item in norm_dist_sorted], 'Distance':[item[2] for item in norm_dist_sorted]})\n",
    "#print(norm_dist_df)\n",
    "\n",
    "# Performing HAC Algorithm on gene_expr_id numpy matrix, using the distance pandas dataframe(norm_dist_df) \n",
    "row_norm_dist_df = 0\n",
    "while row_norm_dist_df < len(norm_dist_df):\n",
    "    if (norm_data_size1 != no_of_clusters):\n",
    "        temp11 = norm_dist_df.loc[row_norm_dist_df]['Point1']\n",
    "        temp12 = norm_dist_df.loc[row_norm_dist_df]['Point2']\n",
    "        if temp11 != temp12:\n",
    "            temp13 = int(norm_dist_df.loc[row_norm_dist_df]['Point1'])\n",
    "            temp14 = norm_dist_df.loc[row_norm_dist_df]['Point2']\n",
    "            gene_expr_id[temp13] = temp13\n",
    "            gene_expr_id[gene_expr_id == temp14] = temp13\n",
    "            norm_dist_df = norm_dist_df.replace((temp14),(temp13))\n",
    "            norm_data_size1 -= 1\n",
    "    row_norm_dist_df += 1\n"
   ]
  },
  {
   "cell_type": "code",
   "execution_count": 7,
   "metadata": {},
   "outputs": [
    {
     "name": "stdout",
     "output_type": "stream",
     "text": [
      "Results of HAC clustering algorithm are shown below:\n",
      "For cluster with cluster id 0 the total number of gene objects in the cluster are 3.\n",
      "For cluster with cluster id 3 the total number of gene objects in the cluster are 3.\n"
     ]
    }
   ],
   "source": [
    "# Taking unique values from gene_expr_id numpy matrix\n",
    "temp22 = list(set(gene_expr_id))\n",
    "temp20 = sorted(temp22)\n",
    "\n",
    "# Creating an empty dictionery\n",
    "temp21 = {}\n",
    "\n",
    "# Poplutating the dictionery with cluster id and no. of objects(gene expressions) in the cluster\n",
    "for item in temp20:\n",
    "    no_items = 0\n",
    "    for item1 in gene_expr_id:\n",
    "        if item1 == item:\n",
    "            no_items += 1\n",
    "            temp21[item] = no_items\n",
    "\n",
    "# Finding the gene ids in each cluster\n",
    "# Defining an empty dictionery\n",
    "gene_id_cluster = {}\n",
    "# Populating gene_id_cluster dictionery\n",
    "for item2 in gene_expr_id:\n",
    "        if item2 == 0:\n",
    "            continue\n",
    "        gene_id_cluster[item2] = numpy.asarray(numpy.where(gene_expr_id == item2))+1\n",
    "            \n",
    "# Printing the cluster id with the count of gene expression objects in the cluster\n",
    "print(\"Results of HAC clustering algorithm are shown below:\")\n",
    "for k,v in temp21.items():\n",
    "    print(\"For cluster with cluster id {} the total number of gene objects in the cluster are {}.\".format(k,v))"
   ]
  },
  {
   "cell_type": "code",
   "execution_count": 8,
   "metadata": {},
   "outputs": [
    {
     "name": "stdout",
     "output_type": "stream",
     "text": [
      "The gene ids that are in each cluster are shown below:\n",
      "\n",
      "The cluster with cluster id 3 has the following gene objects represented by these gene ids:\n",
      "[[4 5 6]]\n",
      "-------------------------------------------------------------------------------------------------------------------\n"
     ]
    }
   ],
   "source": [
    "# For each cluster printing the cluster id and the gene ids in that cluster\n",
    "print(\"The gene ids that are in each cluster are shown below:\\n\")\n",
    "for cluster_id, geneid in gene_id_cluster.items():\n",
    "    print (f\"The cluster with cluster id {cluster_id} has the following gene objects represented by these gene ids:\\n{geneid}\")\n",
    "    print(\"-------------------------------------------------------------------------------------------------------------------\")"
   ]
  },
  {
   "cell_type": "code",
   "execution_count": 9,
   "metadata": {},
   "outputs": [],
   "source": [
    "# PCA : Data Preprocessing for PCA\n",
    "\n",
    "# Creating a empty list and putting cluster indexes in it\n",
    "index_clstr = []\n",
    "for item3 in gene_expr_id:\n",
    "    index_clstr.append(temp22.index(item3))\n",
    "\n",
    "# Creating an empty list and putting unique cluster indexes in it\n",
    "index_clstr_unq = []\n",
    "for item5 in index_clstr:\n",
    "    if item5 not in index_clstr_unq:\n",
    "        index_clstr_unq.append(item5)\n",
    "index_clstr_unq.sort()\n"
   ]
  },
  {
   "cell_type": "code",
   "execution_count": 10,
   "metadata": {},
   "outputs": [],
   "source": [
    "# PCA : Principle Component Analysis\n",
    "# We are using PCA package from sklearn library to implement this\n",
    "# Calculating reduced dimentions:new factors\n",
    "pca_set = PCA(n_components=2, svd_solver='full')\n",
    "pca_set.fit(norm_data)\n",
    "new_factors = pca_set.transform(norm_data)\n"
   ]
  },
  {
   "cell_type": "code",
   "execution_count": 11,
   "metadata": {},
   "outputs": [
    {
     "name": "stderr",
     "output_type": "stream",
     "text": [
      "'c' argument looks like a single numeric RGB or RGBA sequence, which should be avoided as value-mapping will have precedence in case its length matches with 'x' & 'y'.  Please use a 2-D array with a single row if you really want to specify the same RGB or RGBA value for all points.\n",
      "'c' argument looks like a single numeric RGB or RGBA sequence, which should be avoided as value-mapping will have precedence in case its length matches with 'x' & 'y'.  Please use a 2-D array with a single row if you really want to specify the same RGB or RGBA value for all points.\n"
     ]
    },
    {
     "data": {
      "text/plain": [
       "Text(0, 0.5, 'Principle Component 2')"
      ]
     },
     "execution_count": 11,
     "metadata": {},
     "output_type": "execute_result"
    },
    {
     "data": {
      "image/png": "[encoded data removed]",
      "text/plain": [
       "<Figure size 432x288 with 1 Axes>"
      ]
     },
     "metadata": {
      "needs_background": "light"
     },
     "output_type": "display_data"
    }
   ],
   "source": [
    "# Generating variable number of colors\n",
    "if (my_file == \"iyer.txt\"):\n",
    "    var_col = [maplot.cm.jet(float(i) / max(index_clstr_unq)) for i in index_clstr_unq]\n",
    "else: \n",
    "    var_col = mapcm.Set1(numpy.linspace (0,1,len(index_clstr_unq)))\n",
    "\n",
    "# Plotting the final dataframe with disease names\n",
    "plot1 = maplot.figure()\n",
    "plot11 = plot1.add_subplot(111)\n",
    "\n",
    "# Taking first and second columns from new_factors()\n",
    "first_col = new_factors[:,0]\n",
    "second_col = new_factors[:,1]\n",
    "\n",
    "# Calculating the coordinates for the plot\n",
    "for x, y in enumerate(index_clstr_unq):\n",
    "    temp_a = []\n",
    "    temp_b = []\n",
    "    \n",
    "    # Populating temp_a list\n",
    "    for (m,n) in enumerate(first_col):\n",
    "        if index_clstr[m] == y:\n",
    "            temp_a.append(n)\n",
    "            \n",
    "    # Populating temp_b list\n",
    "    for (m,n) in enumerate(second_col):\n",
    "        if index_clstr[m] == y:\n",
    "            temp_b.append(n)\n",
    "    \n",
    "    # Converting labels to string\n",
    "    l = str(int(y))\n",
    "    \n",
    "    # Plotting the graph\n",
    "    plot11.scatter(temp_a,temp_b, c=var_col[x], label=l)\n",
    "    \n",
    "#giving the location of the legend as \"best\"\n",
    "#This would place the legend at the location in the graph that would overcover minimum data points\n",
    "plot11.legend(loc='best')\n",
    "\n",
    "# Giving X axis label\n",
    "plot11.set_xlabel('Principle Component 1')\n",
    "\n",
    "# Giving the title for the graph\n",
    "plot11.set_title(f\"PCA plot for {my_file} datafile using HAC Algorithm for {no_of_clusters} clusters\")\n",
    "\n",
    "# Giving Y axis label\n",
    "plot11.set_ylabel('Principle Component 2')\n",
    "\n",
    "# Saving the scatter plot as a PDF file\n",
    "# maplot.savefig(f\"PCA plot for {my_file} datafile using HAC Algorithm for {no_of_clusters} clusters\")"
   ]
  },
  {
   "cell_type": "code",
   "execution_count": 12,
   "metadata": {},
   "outputs": [
    {
     "name": "stdout",
     "output_type": "stream",
     "text": [
      "The Jaccard Cofficient for HAC Algorithm for 2 clusters is: 1.0\n",
      "The Rand Index for HAC Algorithm for 2 clusters is: 1.0\n"
     ]
    }
   ],
   "source": [
    "# jaccard Cofficient and Rand Index\n",
    "\n",
    "# Taking the ground truth values from data file\n",
    "ground_truth = data__file[:, 1]\n",
    "\n",
    "# Defining empty ground truth and clustering matrix\n",
    "clustering_matrix = numpy.empty((len(norm_data),len(norm_data)))\n",
    "ground_truth_matrix = numpy.empty((len(norm_data),len(norm_data)))\n",
    "\n",
    "# Populating the ground truth and clustering matrix\n",
    "p = 0        \n",
    "while p <(clustering_matrix.shape[0]):\n",
    "    clustering_matrix[p][p] = 1\n",
    "    ground_truth_matrix[p][p] = 1\n",
    "    q = p+1\n",
    "    while q < clustering_matrix.shape[1]:\n",
    "        if gene_expr_id[p] != -1 and gene_expr_id[q] != -1 and gene_expr_id[p] == gene_expr_id[q]:\n",
    "            clustering_matrix[p][q] = 1\n",
    "            clustering_matrix[q][p] = 1\n",
    "        if ground_truth[p] != -1 and ground_truth[q] != -1 and ground_truth[p] == ground_truth[q]:\n",
    "            ground_truth_matrix[p][q] = 1\n",
    "            ground_truth_matrix[q][p] = 1\n",
    "        q += 1\n",
    "    p += 1\n",
    "\n",
    "# initializing variables\n",
    "# f11 = no. of pairs of objects having same class and same clusters\n",
    "# f00 = no. of pairs of objects having different class and different clusters\n",
    "# f01 = no. of pairs of objects having different class and same clusters\n",
    "# f10 = no. of pairs of objects having same class and different clusters\n",
    "f11=0\n",
    "f00=0\n",
    "f10=0\n",
    "f01=0\n",
    "\n",
    "# Calculating the values of same_class, same_cluster, different_class, different cluster table(in theory)\n",
    "for i in range(clustering_matrix.shape[0]):\n",
    "    for j in range(ground_truth_matrix.shape[1]):\n",
    "        if (clustering_matrix[i,j] == 1 and ground_truth_matrix[i,j] == 1):\n",
    "            f11 += 1\n",
    "        elif (clustering_matrix[i,j] == 0 and ground_truth_matrix[i,j] == 0):\n",
    "            f00 += 1\n",
    "        elif (clustering_matrix[i,j] == 1 and ground_truth_matrix[i,j] == 0):\n",
    "            f10 += 1\n",
    "        elif (clustering_matrix[i,j] == 0 and ground_truth_matrix[i,j] == 1):\n",
    "            f01 += 1\n",
    "\n",
    "# Calculating and printing the Jaccard Cofficient and Rand Index\n",
    "print(f\"The Jaccard Cofficient for HAC Algorithm for {no_of_clusters} clusters is: {f11/(f11+f10+f01)}\")\n",
    "print(f\"The Rand Index for HAC Algorithm for {no_of_clusters} clusters is: {(f11+f00)/(f11+f10+f01+f00)}\")\n"
   ]
  },
  {
   "cell_type": "code",
   "execution_count": 13,
   "metadata": {},
   "outputs": [],
   "source": [
    "# The Code completes here"
   ]
  },
  {
   "cell_type": "code",
   "execution_count": null,
   "metadata": {},
   "outputs": [],
   "source": []
  }
 ],
 "metadata": {
  "kernelspec": {
   "display_name": "Python 3",
   "language": "python",
   "name": "python3"
  },
  "language_info": {
   "codemirror_mode": {
    "name": "ipython",
    "version": 3
   },
   "file_extension": ".py",
   "mimetype": "text/x-python",
   "name": "python",
   "nbconvert_exporter": "python",
   "pygments_lexer": "ipython3",
   "version": "3.7.1"
  }
 },
 "nbformat": 4,
 "nbformat_minor": 2
}
