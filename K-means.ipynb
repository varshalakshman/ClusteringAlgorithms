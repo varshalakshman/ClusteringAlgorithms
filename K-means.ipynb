{
 "cells": [
  {
   "cell_type": "markdown",
   "metadata": {},
   "source": [
    "# CSE 601 Data Mining and Bioinformatics\n",
    "# Project 2: Clustering Algorithms"
   ]
  },
  {
   "cell_type": "markdown",
   "metadata": {},
   "source": [
    "# Part 2: K-Means Clustering\n",
    "Description: This program conducts clustering algorithm on gene expressions datasets (cho.txt and iyer.txt) to find clusters of genes that exhibit similar expression profiles.\n",
    "\n",
    "Submitted By:\n",
    "\n",
    "Name: Karan Manchandia | UBIT: karanman | Person No.: 50290755\n",
    "\n",
    "Name: Divya Srivastava | UBIT: divyasri | Person No.: 50290383\n",
    "\n",
    "Name: Varsha Lakshman | UBIT: varshala | Person No.: 50288138"
   ]
  },
  {
   "cell_type": "code",
   "execution_count": 62,
   "metadata": {},
   "outputs": [],
   "source": [
    "#Importing the libraries \n",
    "import numpy as np\n",
    "from math import sqrt\n",
    "from sklearn.decomposition import PCA\n",
    "import matplotlib.pyplot as plt\n",
    "import matplotlib.cm as mapcm"
   ]
  },
  {
   "cell_type": "code",
   "execution_count": 63,
   "metadata": {},
   "outputs": [
    {
     "name": "stdout",
     "output_type": "stream",
     "text": [
      "Enter the name of the gene expression data file: cho.txt\n",
      "Correct data file found and imported\n",
      "\n"
     ]
    }
   ],
   "source": [
    "#Inputting the name of the file\n",
    "while True:\n",
    "    try:\n",
    "        data_file = input(\"Enter the name of the gene expression data file: \")\n",
    "                \n",
    "    # In case of a error the except block will be executed\n",
    "    except:\n",
    "        print(\"Error: Could not find file or read data\")\n",
    "        continue\n",
    "        \n",
    "    # This block will be executed after correct data file name is entered\n",
    "    else:\n",
    "        print(\"Correct data file found and imported\\n\")\n",
    "        break\n",
    "    "
   ]
  },
  {
   "cell_type": "code",
   "execution_count": 64,
   "metadata": {},
   "outputs": [],
   "source": [
    "#Reading the file and using rstrip() removing the whitespace, newline characters, tab characters, and carrige return...\n",
    "# ...characters (\\n \\t \\r respectively) on the tail of each line in the file which is tab seperated.  \n",
    "with open(data_file, \"r\") as file:\n",
    "        data1 = [line.rstrip().split('\\t') for line in file]"
   ]
  },
  {
   "cell_type": "code",
   "execution_count": 65,
   "metadata": {},
   "outputs": [],
   "source": [
    "#Converting the data of the file to a numpy array of type float\n",
    "data1 = np.asarray(data1).astype(np.float)"
   ]
  },
  {
   "cell_type": "code",
   "execution_count": 66,
   "metadata": {},
   "outputs": [],
   "source": [
    "#Extraxting the first columns of all the rows as gene and 2nd column as ground truth and the unique ground truth values as the number of classes\n",
    "data_file1 = data1[:,0]\n",
    "data_file2 = data1[:,1].astype(int)\n",
    "classes = len(np.unique(data_file2))"
   ]
  },
  {
   "cell_type": "code",
   "execution_count": 67,
   "metadata": {},
   "outputs": [],
   "source": [
    "#creating a ground truth matrix\n",
    "gt_matrix = np.zeros((len(data_file2),len(data_file2)))\n",
    "for i in range(len(data_file2)):\n",
    "    for j in range(len(data_file2)):\n",
    "        val = 1 if (data_file2[i]==data_file2[j]) else 0\n",
    "        gt_matrix[i][j] = val"
   ]
  },
  {
   "cell_type": "code",
   "execution_count": 68,
   "metadata": {},
   "outputs": [],
   "source": [
    "#Creating the feature dataset by deleting the 1st and 2nd columns i.e. gene and ground truth columns from the original dataset\n",
    "impo_data = np.delete(data1,[0,1],axis=1)"
   ]
  },
  {
   "cell_type": "code",
   "execution_count": 69,
   "metadata": {},
   "outputs": [
    {
     "name": "stdout",
     "output_type": "stream",
     "text": [
      "Do you want to enter initial centroids (Y or N): Y\n",
      "Enter initial centers indices: 1,3,5,7,9\n",
      "No. of centroids, k = 5\n"
     ]
    }
   ],
   "source": [
    "#Giving choice to either input the initial cluster centre indices or selecting the first k cluster centers as per the user's choice \n",
    "cent = input(\"Do you want to enter initial centroids (Y or N): \")\n",
    "if cent == 'N' or cent =='n':\n",
    "    #Inputting the number of centroids and creating a numpy array of centroids with first k data elements, if choice is 'No'\n",
    "    k = int(input(\"Enter the number of centroids i.e. k: \"))\n",
    "    centroid = []\n",
    "    for i in range(k):\n",
    "        centroid.append(impo_data[i])\n",
    "    centroids= np.asarray(centroid)\n",
    "else:\n",
    "    #Inputting the initial centre indices from the user if the choice is 'Yes'\n",
    "    cent_indices = input(\"Enter initial centers indices: \")\n",
    "    centroids = impo_data[np.asarray(cent_indices.split(',')).astype(int)-1,:].astype(float)\n",
    "# Setting 'k' as the number of centroids\n",
    "k = len(centroids)\n",
    "print(\"No. of centroids, k = \"+str(len(centroids)))\n",
    "cent= centroids"
   ]
  },
  {
   "cell_type": "code",
   "execution_count": 70,
   "metadata": {},
   "outputs": [
    {
     "name": "stdout",
     "output_type": "stream",
     "text": [
      "Enter the total number of iterations:\n",
      "100\n",
      "\n",
      "Total number of iterations is set to be 100\n"
     ]
    }
   ],
   "source": [
    "#Inputting the number of iterations to determine the final clustering results \n",
    "while True:\n",
    "    try:\n",
    "        iters = int(input(\"Enter the total number of iterations:\\n\"))\n",
    "        \n",
    "    # In case of a error(such as entering a string insterd of number) the except block will be executed\n",
    "    except:\n",
    "        print(\"Error: Please enter a number(int)\")\n",
    "        continue\n",
    "        \n",
    "    # This block will be executed after iterations in correct format is entered\n",
    "    else:\n",
    "        print(\"\\nTotal number of iterations is set to be {}\".format(iters))\n",
    "        break\n",
    "    "
   ]
  },
  {
   "cell_type": "code",
   "execution_count": 71,
   "metadata": {},
   "outputs": [
    {
     "name": "stdout",
     "output_type": "stream",
     "text": [
      "Clustered class is:\n",
      "[1 2 1 5 5 5 5 5 5 5 5 1 1 1 1 1 5 1 5 1 1 1 1 1 2 5 1 2 5 3 1 2 1 1 1 5 1\n",
      " 5 1 1 1 3 5 5 5 1 1 1 1 1 1 1 1 1 5 5 1 1 5 1 1 5 1 2 1 3 5 2 2 2 2 2 2 2\n",
      " 2 2 2 2 2 2 2 2 2 2 2 2 2 2 2 1 2 2 2 2 2 2 2 2 2 2 2 2 2 2 2 2 2 2 2 2 2\n",
      " 5 2 2 2 2 2 2 2 2 2 2 2 2 4 2 1 4 1 5 2 2 1 1 2 2 4 2 2 2 2 2 2 2 2 1 2 2\n",
      " 2 2 2 2 2 2 2 2 2 2 2 2 2 2 2 2 2 2 2 2 2 2 2 2 1 2 2 2 2 2 2 1 1 2 2 2 2\n",
      " 2 1 1 5 1 1 2 2 2 2 2 2 2 1 2 2 2 4 2 4 2 4 4 2 4 3 4 2 4 2 4 4 4 2 4 1 4\n",
      " 2 2 2 4 4 2 4 2 2 2 2 2 4 4 4 1 4 4 5 4 4 4 2 2 2 4 4 4 4 2 2 4 4 4 4 4 4\n",
      " 4 4 4 4 2 2 4 5 4 2 4 4 2 2 2 4 4 2 4 4 3 4 4 3 3 4 4 4 4 4 5 3 4 5 5 4 4\n",
      " 5 4 5 4 4 4 4 4 4 4 4 4 4 4 5 4 3 4 4 4 4 4 3 3 4 4 4 5 4 4 4 4 4 4 4 5 3\n",
      " 3 3 3 3 3 3 3 3 4 3 3 3 3 5 3 3 3 5 5 3 5 5 5 3 5 5 5 4 5 3 5 5 5 3 3 5 5\n",
      " 5 3 3 5 3 3 3 3 5 3 3 3 5 3 3 3]\n"
     ]
    }
   ],
   "source": [
    "#Method to update centroids by taking mean of all data points of each cluster\n",
    "\n",
    "for n in range(iters):\n",
    "    clustered_cc = []   \n",
    "    for i in range(len(impo_data)):\n",
    "        #Classifying the data points to closest centroid as per the euclidian distance\n",
    "        euc = []\n",
    "        for j in range(len(centroids)):\n",
    "            #The below loop calculates the euclidian distance between the data points and cluster centroids\n",
    "            distance = 0\n",
    "            for x in range(len(impo_data[i])):\n",
    "                distance += ((impo_data[i][x] - centroids[j][x]) ** 2)\n",
    "            dist = sqrt(distance)   \n",
    "            euc.insert(j,dist)\n",
    "\n",
    "        clustered_cc.insert(i,np.argmin(euc)+1)\n",
    "    clustered_cc = np.asarray(clustered_cc)\n",
    "    #Calculating the average of all the datapoints in a cluster and updating the cluster centroids to that value\n",
    "    new_cent = []\n",
    "    for i in range(len(centroids)):\n",
    "        arr_temp = np.asarray([np.where(clustered_cc[:] == i+1)][0])[0]\n",
    "        per_cluster = impo_data[arr_temp,:]\n",
    "        if len(per_cluster) == 0:\n",
    "            new_cent.insert(i, centroids[i])\n",
    "        else:\n",
    "            new_cent.insert(i,np.mean(per_cluster, axis=0))\n",
    "    centroids_new = np.asarray(new_cent)\n",
    "    \n",
    "    if np.array_equal(centroids, centroids_new):\n",
    "        break\n",
    "    centroids = centroids_new\n",
    "print(\"Clustered class is:\")\n",
    "print(clustered_cc)\n"
   ]
  },
  {
   "cell_type": "code",
   "execution_count": 72,
   "metadata": {},
   "outputs": [
    {
     "name": "stdout",
     "output_type": "stream",
     "text": [
      "Clustered class is:\n",
      "[1 2 1 5 5 5 5 5 5 5 5 1 1 1 1 1 5 1 5 1 1 1 1 1 2 5 1 2 5 3 1 2 1 1 1 5 1\n",
      " 5 1 1 1 3 5 5 5 1 1 1 1 1 1 1 1 1 5 5 1 1 5 1 1 5 1 2 1 3 5 2 2 2 2 2 2 2\n",
      " 2 2 2 2 2 2 2 2 2 2 2 2 2 2 2 1 2 2 2 2 2 2 2 2 2 2 2 2 2 2 2 2 2 2 2 2 2\n",
      " 5 2 2 2 2 2 2 2 2 2 2 2 2 4 2 1 4 1 5 2 2 1 1 2 2 4 2 2 2 2 2 2 2 2 1 2 2\n",
      " 2 2 2 2 2 2 2 2 2 2 2 2 2 2 2 2 2 2 2 2 2 2 2 2 1 2 2 2 2 2 2 1 1 2 2 2 2\n",
      " 2 1 1 5 1 1 2 2 2 2 2 2 2 1 2 2 2 4 2 4 2 4 4 2 4 3 4 2 4 2 4 4 4 2 4 1 4\n",
      " 2 2 2 4 4 2 4 2 2 2 2 2 4 4 4 1 4 4 5 4 4 4 2 2 2 4 4 4 4 2 2 4 4 4 4 4 4\n",
      " 4 4 4 4 2 2 4 5 4 2 4 4 2 2 2 4 4 2 4 4 3 4 4 3 3 4 4 4 4 4 5 3 4 5 5 4 4\n",
      " 5 4 5 4 4 4 4 4 4 4 4 4 4 4 5 4 3 4 4 4 4 4 3 3 4 4 4 5 4 4 4 4 4 4 4 5 3\n",
      " 3 3 3 3 3 3 3 3 4 3 3 3 3 5 3 3 3 5 5 3 5 5 5 3 5 5 5 4 5 3 5 5 5 3 3 5 5\n",
      " 5 3 3 5 3 3 3 3 5 3 3 3 5 3 3 3]\n"
     ]
    }
   ],
   "source": [
    "#Method to update centroids by taking mean of all data points of each cluster\n",
    "\n",
    "for n in range(iters):\n",
    "    clustered_cc = []   \n",
    "    for i in range(len(impo_data)):\n",
    "        #Classifying the data points to closest centroid as per the euclidian distance\n",
    "        euc = []\n",
    "        for j in range(len(centroids)):\n",
    "            #The below loop calculates the euclidian distance between the data points and cluster centroids\n",
    "            distance = 0\n",
    "            for x in range(len(impo_data[i])):\n",
    "                distance += ((impo_data[i][x] - centroids[j][x]) ** 2)\n",
    "            dist = sqrt(distance)   \n",
    "            euc.insert(j,dist)\n",
    "\n",
    "        clustered_cc.insert(i,np.argmin(euc)+1)\n",
    "    clustered_cc = np.asarray(clustered_cc)\n",
    "    #Calculating the average of all the datapoints in a cluster and updating the cluster centroids to that value\n",
    "    new_cent = []\n",
    "    for i in range(len(centroids)):\n",
    "        arr_temp = np.asarray([np.where(clustered_cc[:] == i+1)][0])[0]\n",
    "        per_cluster = impo_data[arr_temp,:]\n",
    "        if len(per_cluster) == 0:\n",
    "            new_cent.insert(i, centroids[i])\n",
    "        else:\n",
    "            new_cent.insert(i,np.mean(per_cluster, axis=0))\n",
    "    centroids_new = np.asarray(new_cent)\n",
    "    \n",
    "    #if the updated centroid values are not changing anymore, we stop the further iterations\n",
    "    if np.array_equal(centroids, centroids_new):\n",
    "        break\n",
    "    centroids = centroids_new\n",
    "print(\"Clustered class is:\")\n",
    "print(clustered_cc)\n"
   ]
  },
  {
   "cell_type": "code",
   "execution_count": 73,
   "metadata": {},
   "outputs": [
    {
     "name": "stdout",
     "output_type": "stream",
     "text": [
      "Unique clusters formed are:\n",
      "[1, 2, 3, 4, 5]\n"
     ]
    }
   ],
   "source": [
    "unq_clstr = []\n",
    "for item5 in clustered_cc:\n",
    "    if item5 not in unq_clstr:\n",
    "        unq_clstr.append(item5)\n",
    "unq_clstr.sort()\n",
    "print(\"Unique clusters formed are:\")\n",
    "print(unq_clstr)"
   ]
  },
  {
   "cell_type": "code",
   "execution_count": 74,
   "metadata": {},
   "outputs": [],
   "source": [
    "#Visualizing the results using PCA package imported from sklearn.decomposition with final centroids and the data classified to different cluster centres\n",
    "pca = PCA(n_components=2, svd_solver='full')\n",
    "pca.fit(impo_data)\n",
    "new_factors = pca.transform(impo_data)\n",
    "pca_cent = new_factors[0:k,:]"
   ]
  },
  {
   "cell_type": "code",
   "execution_count": 75,
   "metadata": {},
   "outputs": [],
   "source": [
    "#Creating the cluster matrix for external index creation\n",
    "\n",
    "classes = clustered_cc.astype(int)\n",
    "inc_matrix = np.zeros((len(classes),len(classes)))\n",
    "\n",
    "for i in range(len(classes)):\n",
    "    for j in range(len(classes)):\n",
    "        val = 1 if (classes[i]==classes[j]) else 0\n",
    "        inc_matrix[i][j] = val\n",
    "cluster_matrix = inc_matrix"
   ]
  },
  {
   "cell_type": "code",
   "execution_count": 76,
   "metadata": {},
   "outputs": [],
   "source": [
    "# Deriving the dimension parameters from cluster matrix and ground truth matrix for external index calculation\n",
    "f11 = f00 = f10 = f01 = 0.0\n",
    "for i in range(len(gt_matrix)):\n",
    "    for j in range(len(gt_matrix)):\n",
    "        if gt_matrix[i][j] == cluster_matrix[i][j]:\n",
    "            if gt_matrix[i][j] == 1:\n",
    "                f11 += 1\n",
    "            else:\n",
    "                f00 += 1\n",
    "        else:\n",
    "            if gt_matrix[i][j] == 1:\n",
    "                f10 += 1\n",
    "            else:\n",
    "                f01 += 1\n",
    "\n",
    "\n",
    "#Calculating the Jaccard and Rand coefficients using the calculated dimension values for validation of results\n",
    "Jaccard= str(f11/(f11 + f10 + f01))  \n",
    "Rand= str((f11 + f00)/(f11 + f00 + f10 + f01))"
   ]
  },
  {
   "cell_type": "code",
   "execution_count": 77,
   "metadata": {},
   "outputs": [
    {
     "name": "stderr",
     "output_type": "stream",
     "text": [
      "'c' argument looks like a single numeric RGB or RGBA sequence, which should be avoided as value-mapping will have precedence in case its length matches with 'x' & 'y'.  Please use a 2-D array with a single row if you really want to specify the same RGB or RGBA value for all points.\n",
      "'c' argument looks like a single numeric RGB or RGBA sequence, which should be avoided as value-mapping will have precedence in case its length matches with 'x' & 'y'.  Please use a 2-D array with a single row if you really want to specify the same RGB or RGBA value for all points.\n",
      "'c' argument looks like a single numeric RGB or RGBA sequence, which should be avoided as value-mapping will have precedence in case its length matches with 'x' & 'y'.  Please use a 2-D array with a single row if you really want to specify the same RGB or RGBA value for all points.\n",
      "'c' argument looks like a single numeric RGB or RGBA sequence, which should be avoided as value-mapping will have precedence in case its length matches with 'x' & 'y'.  Please use a 2-D array with a single row if you really want to specify the same RGB or RGBA value for all points.\n",
      "'c' argument looks like a single numeric RGB or RGBA sequence, which should be avoided as value-mapping will have precedence in case its length matches with 'x' & 'y'.  Please use a 2-D array with a single row if you really want to specify the same RGB or RGBA value for all points.\n"
     ]
    },
    {
     "name": "stdout",
     "output_type": "stream",
     "text": [
      "The file name is: cho.txt\n",
      "The number of centroids i.e. cluster centers are: 5\n",
      "No. of iterations are: 100\n",
      "Initial centroids are: \n",
      "[[-0.69  -0.96  -1.16  -0.66  -0.55   0.12  -1.07  -1.22   0.82   1.4\n",
      "   0.71   0.68   0.11  -0.04   0.19   0.82 ]\n",
      " [-0.3   -0.56  -0.29  -0.5   -0.27  -0.29  -0.56  -1.04   0.32   0.9\n",
      "   0.45   0.17   0.164 -0.12  -0.16   0.67 ]\n",
      " [-1.04   0.13   0.51  -0.44  -0.88  -0.32   0.21   0.95   1.07   0.38\n",
      "   0.01  -0.13  -0.78  -0.13   0.092  0.   ]\n",
      " [-0.16   0.35  -0.13  -0.26  -0.4   -0.47   0.1    0.74   0.45   0.04\n",
      "  -0.3   -0.3   -0.118 -0.59   0.14   0.2  ]\n",
      " [-0.18   0.14  -0.04  -0.76  -0.68  -0.53  -0.37   0.19   0.81   0.56\n",
      "   0.03  -0.26  -0.13  -0.41   0.09   0.45 ]]\n",
      "New centroids at the end of 100 iterations are: \n",
      "[[ 2.71509434e-02 -3.91698113e-01 -7.35283019e-01 -6.77169811e-01\n",
      "  -5.70566038e-01 -3.71886792e-01 -5.12641509e-01 -4.56981132e-01\n",
      "   1.27924528e-01  9.10000000e-01  6.05471698e-01  3.33245283e-01\n",
      "   1.13056604e-01  9.72830189e-02  1.48471698e-01  4.95849057e-01]\n",
      " [-3.76340136e-01  6.40136054e-02  1.06469388e+00  5.72176871e-01\n",
      "  -5.37414966e-03 -1.90408163e-01 -4.80884354e-01 -7.20217687e-01\n",
      "  -5.66326531e-01  6.87959184e-01  5.95496599e-01  2.49360544e-01\n",
      "  -3.77482993e-02 -3.20632653e-01 -5.41204082e-01 -4.03469388e-01]\n",
      " [-9.79818182e-01 -1.04461364e+00 -1.15795455e+00 -6.88636364e-01\n",
      "  -2.26363636e-01  3.07045455e-01  8.40227273e-01  1.02954545e+00\n",
      "   8.55454545e-01 -1.35227273e-01 -4.00681818e-01 -6.09090909e-02\n",
      "   1.47386364e-01  4.64568182e-01  6.50409091e-01  5.05681818e-01]\n",
      " [-5.84545455e-01 -4.92045455e-01 -1.23977273e-01  3.48750000e-01\n",
      "   6.42954545e-01  5.26931818e-01  2.49659091e-01  8.63636364e-03\n",
      "  -2.17727273e-01 -3.20340909e-01 -5.56818182e-04  2.52613636e-01\n",
      "   2.59568182e-01  1.08147727e-01  7.24090909e-02 -1.74090909e-01]\n",
      " [ 6.05555556e-02  1.23407407e-01 -2.46777778e-01 -4.93222222e-01\n",
      "  -4.01259259e-01 -3.30074074e-01  6.82962963e-02  4.15185185e-01\n",
      "   4.97185185e-01  7.75555556e-02 -1.26648148e-01 -2.92203704e-01\n",
      "  -2.27240741e-01 -5.03703704e-03  1.55685185e-01  2.94629630e-01]]\n",
      "The RAND coefficient is: 0.8047867056833741\n",
      "The JACCARD coefficient is: 0.42048216776250247\n"
     ]
    },
    {
     "data": {
      "image/png": "[encoded data removed]",
      "text/plain": [
       "<Figure size 432x288 with 1 Axes>"
      ]
     },
     "metadata": {
      "needs_background": "light"
     },
     "output_type": "display_data"
    }
   ],
   "source": [
    "# Generating variable number of colors\n",
    "var_col = mapcm.Set1(np.linspace (0,1,len(unq_clstr)))\n",
    "\n",
    "# # Plotting the final dataframe\n",
    "plot1 = plt.figure()\n",
    "plot11 = plot1.add_subplot(111)\n",
    "\n",
    "# Taking first and second columns from new_factors()\n",
    "first_col = new_factors[:,0]\n",
    "second_col = new_factors[:,1]\n",
    "\n",
    "# Calculating the coordinates for the plot\n",
    "for x, y in enumerate(unq_clstr):\n",
    "    temp_a = []\n",
    "    temp_b = []\n",
    "    \n",
    "    # Populating temp_a list\n",
    "    for (m,n) in enumerate(first_col):\n",
    "        if clustered_cc[m] == y:\n",
    "            temp_a.append(n)\n",
    "            \n",
    "    # Populating temp_b list\n",
    "    for (m,n) in enumerate(second_col):\n",
    "        if clustered_cc[m] == y:\n",
    "            temp_b.append(n)\n",
    "    \n",
    "    # Converting labels to string\n",
    "    l = str(int(y))\n",
    "    \n",
    "    # Plotting the graph\n",
    "    plot11.scatter(temp_a,temp_b, c=var_col[x], label=l)\n",
    "    \n",
    "#giving the location of the legend as \"best\"\n",
    "#This would place the legend at the location in the graph that would overcover minimum data points\n",
    "plot11.legend(loc='best')\n",
    "\n",
    "# Giving X axis label\n",
    "plot11.set_xlabel('Principle Component 1')\n",
    "\n",
    "# Giving the title for the graph\n",
    "plot11.set_title(f\"PCA plot for {data_file} datafile using KMeans Algorithm for {k} clusters\")\n",
    "\n",
    "# Giving Y axis label\n",
    "plot11.set_ylabel('Principle Component 2')\n",
    "\n",
    "# Saving the scatter plot as a PDF file\n",
    "# maplot.savefig(f\"PCA plot for {data_file} datafile using KMeans Algorithm for {k} clusters\")\n",
    "\n",
    "#Displaying the results\n",
    "print(f\"The file name is: {data_file}\")\n",
    "print(f\"The number of centroids i.e. cluster centers are: {k}\")\n",
    "print(f\"No. of iterations are: {iters}\")\n",
    "print(f\"Initial centroids are: \")\n",
    "print(cent)\n",
    "print(f\"New centroids at the end of {iters} iterations are: \")\n",
    "print(centroids)\n",
    "print(f\"The RAND coefficient is: {Rand}\")\n",
    "print(f\"The JACCARD coefficient is: {Jaccard}\")"
   ]
  },
  {
   "cell_type": "code",
   "execution_count": null,
   "metadata": {},
   "outputs": [],
   "source": []
  }
 ],
 "metadata": {
  "kernelspec": {
   "display_name": "Python 3",
   "language": "python",
   "name": "python3"
  },
  "language_info": {
   "codemirror_mode": {
    "name": "ipython",
    "version": 3
   },
   "file_extension": ".py",
   "mimetype": "text/x-python",
   "name": "python",
   "nbconvert_exporter": "python",
   "pygments_lexer": "ipython3",
   "version": "3.7.1"
  }
 },
 "nbformat": 4,
 "nbformat_minor": 2
}
